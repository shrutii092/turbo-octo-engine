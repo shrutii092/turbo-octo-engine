{
 "cells": [
  {
   "cell_type": "markdown",
   "id": "0ddc13e5",
   "metadata": {},
   "source": [
    "#QUESTION 1\n",
    "Three measures of central tendency are mean, median and mode"
   ]
  },
  {
   "cell_type": "markdown",
   "id": "2eba685b",
   "metadata": {},
   "source": [
    "#QUESTION 2\n",
    "Mean, median, and mode are three measures of central tendency used to describe the \"center\" or typical value of a dataset. They provide different insights into the distribution of the data and are often used in statistics and data analysis.\n",
    "\n",
    "Mean: The mean is the average of all the values in a dataset. It is calculated by summing up all the data points and dividing by the number of data points.\n",
    "\n",
    "Mean = (Sum of all values) / (Number of values)\n",
    "\n",
    "\n",
    "Median: The median is the middle value of a dataset when it is sorted in ascending order. If the dataset has an odd number of values, the median is the middle value. If the dataset has an even number of values, the median is the average of the two middle values.\n",
    "\n",
    "\n",
    "\n",
    "Mode: The mode is the value that appears most frequently in a dataset. It represents the most common value(s) in the data.\n"
   ]
  },
  {
   "cell_type": "markdown",
   "id": "ec57c0ff",
   "metadata": {},
   "source": [
    "#QUESTION 3\n",
    "Mean = (Sum of all values) / (Number of values)\n",
    "Mean = (178 + 177 + 176 + 177 + 178.2 + 178 + 175 + 179 + 180 + 175 + 178.9 + 176.2 + 177 + 172.5 + 178 + 176.5) / 16\n",
    "Mean ≈ 177.85\n",
    "\n",
    "Median:\n",
    "First, we need to sort the data in ascending order:\n",
    "Sorted data: [172.5, 175, 175, 176, 176, 176.2, 176.5, 177, 177, 178, 178, 178, 178.2, 178.9, 179, 180]\n",
    "\n",
    "Median = (176 + 178) / 2\n",
    "Median = 177\n",
    "\n",
    "Mode: 178 "
   ]
  },
  {
   "cell_type": "markdown",
   "id": "6ea1e16e",
   "metadata": {},
   "source": [
    "#QUESTION 4\n",
    "Given data: [178, 177, 176, 177, 178.2, 178, 175, 179, 180, 175, 178.9, 176.2, 177, 172.5, 178, 176.5]\n",
    "\n",
    "Step 1: Calculate the mean (average) of the data.\n",
    "Mean (x̄) = (178 + 177 + 176 + 177 + 178.2 + 178 + 175 + 179 + 180 + 175 + 178.9 + 176.2 + 177 + 172.5 + 178 + 176.5) / 16 ≈ 176.9625\n",
    "\n",
    "Step 2: Calculate the sum of the squared differences between each data point and the mean.\n",
    "Squared differences = [(178 - 176.9625)^2, (177 - 176.9625)^2, ...]\n",
    "\n",
    "Step 3: Sum up the squared differences.\n",
    "Sum of squared differences = (0.07300625 + 0.00091375 + ...) ≈ 7.6419875\n",
    "\n",
    "Step 4: Divide the sum of squared differences by (n-1), where n is the number of data points (sample size).\n",
    "Standard deviation (s) = sqrt(Sum of squared differences / (n - 1))\n",
    "Standard deviation (s) ≈ sqrt(7.6419875 / 15) ≈ 1.4756989"
   ]
  },
  {
   "cell_type": "markdown",
   "id": "985c4dd2",
   "metadata": {},
   "source": [
    "#QUESTION 5\n",
    "Range: The range is the simplest measure of dispersion, representing the difference between the maximum and minimum values in the dataset. It gives an idea of how widely the data is spread from the lowest to the highest value.\n",
    "\n",
    "Example: Consider the following dataset representing the daily temperatures in degrees Celsius for a week:\n",
    "[20, 22, 19, 25, 23, 21, 24]\n",
    "The range is calculated as the difference between the highest temperature (25°C) and the lowest temperature (19°C):\n",
    "Range = 25 - 19 = 6°C\n",
    "The range of 6°C indicates that the temperatures fluctuated by 6 degrees during the week.\n",
    "\n",
    "Variance: Variance measures how much the individual data points deviate from the mean. It provides a measure of the spread of the data points around the mean.\n",
    "\n",
    "The formula to calculate the variance (sample variance) is given by:\n",
    "Variance = Σ(xi - x̄)^2 / (n - 1)\n",
    "\n",
    "Example: Consider the following dataset representing the ages of a group of people:\n",
    "[25, 30, 27, 32, 29, 31, 28]\n",
    "First, calculate the mean:\n",
    "Mean = (25 + 30 + 27 + 32 + 29 + 31 + 28) / 7 = 28.57\n",
    "Then, calculate the variance:\n",
    "Variance = [(25 - 28.57)^2 + (30 - 28.57)^2 + ... + (28 - 28.57)^2] / 6 ≈ 5.90\n",
    "The variance of approximately 5.90 indicates that the ages vary or deviate from the mean by an average of about 5.90 units.\n",
    "\n",
    "Standard Deviation: The standard deviation is the square root of the variance. It is commonly used because it provides a measure of dispersion in the same units as the data.\n",
    "\n",
    "The formula to calculate the standard deviation (sample standard deviation) is given by:\n",
    "Standard deviation = sqrt(Variance)\n",
    "\n",
    "Example: Using the same dataset of ages as before, the variance was calculated to be approximately 5.90. The standard deviation is the square root of the variance:\n",
    "Standard deviation ≈ sqrt(5.90) ≈ 2.43\n",
    "The standard deviation of approximately 2.43 indicates that the ages vary from the mean by an average of about 2.43 units."
   ]
  },
  {
   "cell_type": "markdown",
   "id": "cd7f74c2",
   "metadata": {},
   "source": [
    "#QUESTION 6\n",
    "A Venn diagram is a visual representation of the relationships between different sets or groups of data. It consists of overlapping circles, each representing a set, and the intersections between the circles represent the elements shared by those sets."
   ]
  },
  {
   "cell_type": "markdown",
   "id": "ba9a11d3",
   "metadata": {},
   "source": [
    "#QUESTION 7\n",
    "i) 2,6\n",
    "ii) 0,2,3,4,5,6,7,8,10\n"
   ]
  },
  {
   "cell_type": "markdown",
   "id": "920ab2e4",
   "metadata": {},
   "source": [
    "#QUESTION 8\n",
    "Skewness is a statistical measure that describes the asymmetry or lack of symmetry in a dataset's distribution. It quantifies the degree to which the data is skewed (or tilted) to the left or right relative to the central tendency (mean, median, or mode). Skewness is an essential concept in data analysis and is used to understand the shape of a distribution."
   ]
  },
  {
   "cell_type": "markdown",
   "id": "04988e6a",
   "metadata": {},
   "source": [
    "#QUESTION 9\n",
    "In a right-skewed distribution, the median is less than the mean.\n",
    "Median < Mean"
   ]
  },
  {
   "cell_type": "markdown",
   "id": "bf09be1c",
   "metadata": {},
   "source": [
    "#QUESTION 10\n",
    "covariance measures the extent of the linear relationship between two variables without standardizing the results, while correlation provides a standardized measure of the strength and direction of the linear relationship, making it easier to compare across different datasets. "
   ]
  },
  {
   "cell_type": "markdown",
   "id": "c4b9d82c",
   "metadata": {},
   "source": [
    "#QUESTION 11\n",
    "Formula for Sample Mean:\n",
    "x̄ = (Sum of all data points) / (Number of data points)\n",
    "\n",
    "\n",
    "Example Dataset: [10, 15, 20, 25, 30]\n",
    "\n",
    "Sum = 10 + 15 + 20 + 25 + 30 = 100\n",
    "\n",
    "Number of data points (n) = 5\n",
    "\n",
    "Step 3: Calculate the sample mean using the formula:\n",
    "x̄ = Sum / n\n",
    "x̄ = 100 / 5\n",
    "x̄ = 20"
   ]
  },
  {
   "cell_type": "markdown",
   "id": "d8d6099b",
   "metadata": {},
   "source": [
    "#QUESTION 12\n",
    "Mean = Median = Mode"
   ]
  },
  {
   "cell_type": "markdown",
   "id": "16724bf5",
   "metadata": {},
   "source": [
    "#Question 13\n",
    "covariance and correlation both measure the association between two variables, but correlation is a standardized version of covariance that provides a more interpretable and comparable measure of the relationship. "
   ]
  },
  {
   "cell_type": "markdown",
   "id": "7f5a558d",
   "metadata": {},
   "source": [
    "#Question 14\n",
    "outliers affect these measures:\n",
    "1. Measures of Central Tendency:\n",
    "ex - Example:\n",
    "Consider the following dataset of exam scores: [80, 85, 82, 88, 86, 92, 75, 95, 98, 85, 84, 78, 94, 120]\n",
    "In this dataset, the value 120 is an outlier since it is significantly larger than the other values. \n",
    "2.Measures of Dispersion:\n",
    "Range: \n",
    "Variance and Standard Deviation: \n",
    "ex - Consider the same dataset of exam scores with the outlier: [80, 85, 82, 88, 86, 92, 75, 95, 98, 85, 84, 78, 94, 120]\n",
    "\n",
    "Range:  120 - 75 = 45. Removing the outlier, the range is 98 - 75 = 23, which is much smaller.\n",
    "Variance and Standard Deviation: With the outlier, the variance is approximately 161.05 and the standard deviation is approximately 12.68. Without the outlier, the variance is approximately 57.73, and the standard deviation is approximately 7.60."
   ]
  }
 ],
 "metadata": {
  "kernelspec": {
   "display_name": "Python 3 (ipykernel)",
   "language": "python",
   "name": "python3"
  },
  "language_info": {
   "codemirror_mode": {
    "name": "ipython",
    "version": 3
   },
   "file_extension": ".py",
   "mimetype": "text/x-python",
   "name": "python",
   "nbconvert_exporter": "python",
   "pygments_lexer": "ipython3",
   "version": "3.10.4"
  }
 },
 "nbformat": 4,
 "nbformat_minor": 5
}
