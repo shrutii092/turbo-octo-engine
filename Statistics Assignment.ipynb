{
 "cells": [
  {
   "cell_type": "markdown",
   "id": "aa0f431f",
   "metadata": {},
   "source": [
    "ANSWER 1:\n",
    "Statistics is the science of collecting, organizing and analyzing the data."
   ]
  },
  {
   "cell_type": "markdown",
   "id": "ba0384ef",
   "metadata": {},
   "source": [
    "ANSWER 2: \n",
    "Types of statistics are:\n",
    "Descriptive Statistics - It consists of organizing and summarizing the data.\n",
    "    ex - a dataset that represents the ages of 10 people:\n",
    "\n",
    "25, 27, 30, 32, 35, 40, 42, 45, 50, 55\n",
    "\n",
    "Now, let's calculate some descriptive statistics for this dataset:\n",
    "\n",
    "Mean = (25 + 27 + 30 + 32 + 35 + 40 + 42 + 45 + 50 + 55) / 10 = 37.1\n",
    "\n",
    "Median = 35\n",
    "\n",
    "Mode = No mode since all values are unique.\n",
    "\n",
    "Range = Maximum value - Minimum value = 55 - 25 = 30\n",
    "\n",
    "\n",
    "Inferential Statistics - It consists of using data you have measured to form conclusion\n",
    "    ex - determine if there is a significant difference in the mean test scores between two groups of students, Group A and Group B.\n",
    "\n",
    "You randomly select 50 students from each group and calculate their test scores.\n",
    "\n",
    "Group A scores: 75, 80, 85, 90, 95, ...\n",
    "Group B scores: 70, 75, 80, 85, 90, ...\n",
    "\n",
    "To test for a significant difference, you can perform a t-test or a non-parametric test like the Mann-Whitney U test. These tests will provide a p-value, indicating the probability of obtaining the observed difference in means (or medians) between the groups by chance.\n",
    "\n",
    "Based on the p-value, you can determine whether the difference in test scores between Group A and Group B is statistically significant or if it could have occurred due to random variation."
   ]
  },
  {
   "cell_type": "markdown",
   "id": "2cf05849",
   "metadata": {},
   "source": [
    "ANSWER 3:\n",
    "There are two types of data :\n",
    "Quantitative data:\n",
    "\n",
    "Qualitative data: the data that include categorical values.\n",
    "   ex - Number of students\n",
    "   \n",
    "Quantitaive data: the data that include numerical values.\n",
    "   ex - Gender"
   ]
  },
  {
   "cell_type": "markdown",
   "id": "cbba2218",
   "metadata": {},
   "source": [
    "ANSWER 4:\n",
    "i Qualitative\n",
    "ii qualitative\n",
    "iii quantitative\n",
    "iv quanitative"
   ]
  },
  {
   "cell_type": "markdown",
   "id": "520763ad",
   "metadata": {},
   "source": [
    "ANSWER 5:\n",
    "Levels of measurement:\n",
    "i) Nominal Scale Data: Categorical data. Order does not matter. ex - gender, colour etc.\n",
    "\n",
    "ii)Internal Scale data: Rank and order matter. Difference can be measured excluding ratio. Zero cannot be measured. ex - Temperature.\n",
    "\n",
    "iii) Ordinal Scale data: Ranking and order matter. Difference cannot be measured. ex - Qualification - PHD(1st), M.Tech.(2nd), B.Tech.(3rd)\n",
    "\n",
    "iv) Ratio scale data: Rank and order matter. Differences and ratios are measureable. It does have a 0 starting value.\n",
    "ex : Grades"
   ]
  },
  {
   "cell_type": "markdown",
   "id": "6c372cc6",
   "metadata": {},
   "source": [
    "ANSWER 6:\n",
    "Understanding the level of measurement allows you to select the appropriate statistical analysis techniques and ensure the validity and meaningful interpretation of the results. It helps to avoid misinterpretation, erroneous analysis, and inaccurate conclusions when working with data.\n",
    "\n",
    "Nominal:  Examples include gender (male/female) or color (red/blue/green).\n",
    "\n",
    "Ordinal:  Examples include ratings (1-star, 2-star, 3-star) or survey responses (strongly agree, agree, neutral, disagree, strongly disagree). \n",
    "\n",
    "Interval:  Examples include temperature measured in Celsius or Fahrenheit. \n",
    "\n",
    "Ratio:  Examples include height, weight, or income. Ratio data allows for all arithmetic operations, including multiplication and division. "
   ]
  },
  {
   "cell_type": "markdown",
   "id": "6995d17f",
   "metadata": {},
   "source": [
    "ANSWER 7:\n",
    "i) Nominal Scale Data: Categorical data. Order does not matter. ex - gender, colour etc.\n",
    "\n",
    "\n",
    "\n",
    "ii) Ordinal Scale data: Ranking and order matter. Difference cannot be measured. ex - Qualification - PHD(1st), M.Tech.(2nd), B.Tech.(3rd)"
   ]
  },
  {
   "cell_type": "markdown",
   "id": "e0adbba3",
   "metadata": {},
   "source": [
    "ANSWER 8:\n",
    "Range plot"
   ]
  },
  {
   "cell_type": "markdown",
   "id": "1fb004e2",
   "metadata": {},
   "source": [
    "ANSWER 9:\n",
    "Descriptive Statistics - It consists of organizing and summarizing the data.\n",
    "    ex - a dataset that represents the ages of 10 people:\n",
    "\n",
    "25, 27, 30, 32, 35, 40, 42, 45, 50, 55\n",
    "\n",
    "Now, let's calculate some descriptive statistics for this dataset:\n",
    "\n",
    "Mean = (25 + 27 + 30 + 32 + 35 + 40 + 42 + 45 + 50 + 55) / 10 = 37.1\n",
    "\n",
    "Median = 35\n",
    "\n",
    "Mode = No mode since all values are unique.\n",
    "\n",
    "Range = Maximum value - Minimum value = 55 - 25 = 30\n",
    "\n",
    "\n",
    "Inferential Statistics - It consists of using data you have measured to form conclusion\n",
    "    ex - determine if there is a significant difference in the mean test scores between two groups of students, Group A and Group B.\n",
    "\n",
    "You randomly select 50 students from each group and calculate their test scores.\n",
    "\n",
    "Group A scores: 75, 80, 85, 90, 95, ...\n",
    "Group B scores: 70, 75, 80, 85, 90, ...\n",
    "\n",
    "To test for a significant difference, you can perform a t-test or a non-parametric test like the Mann-Whitney U test. These tests will provide a p-value, indicating the probability of obtaining the observed difference in means (or medians) between the groups by chance.\n",
    "\n",
    "Based on the p-value, you can determine whether the difference in test scores between Group A and Group B is statistically significant or if it could have occurred due to random variation."
   ]
  },
  {
   "cell_type": "markdown",
   "id": "61b208b9",
   "metadata": {},
   "source": [
    "ANSWER 10 :\n",
    "Common measures of central tendency: mean, median, mode. They describe the typical or central value of the dataset.\n",
    "\n",
    "Common measures of variability: range, variance, standard deviation, interquartile range. They describe the spread or dispersion of the dataset.\n",
    "\n",
    "\n",
    "\n",
    "\n"
   ]
  }
 ],
 "metadata": {
  "kernelspec": {
   "display_name": "Python 3 (ipykernel)",
   "language": "python",
   "name": "python3"
  },
  "language_info": {
   "codemirror_mode": {
    "name": "ipython",
    "version": 3
   },
   "file_extension": ".py",
   "mimetype": "text/x-python",
   "name": "python",
   "nbconvert_exporter": "python",
   "pygments_lexer": "ipython3",
   "version": "3.10.4"
  }
 },
 "nbformat": 4,
 "nbformat_minor": 5
}
