{
 "cells": [
  {
   "cell_type": "markdown",
   "id": "9e67d8e5",
   "metadata": {},
   "source": [
    "QUESTION 1\n",
    "Class is the blueprint while an object is the instance of the created class."
   ]
  },
  {
   "cell_type": "code",
   "execution_count": 7,
   "id": "b5b4651f",
   "metadata": {},
   "outputs": [],
   "source": [
    "class student:\n",
    "    \n",
    "    def msg(self):\n",
    "        print(\"Hello\")"
   ]
  },
  {
   "cell_type": "code",
   "execution_count": 8,
   "id": "14cc3f98",
   "metadata": {},
   "outputs": [],
   "source": [
    "obj = student()"
   ]
  },
  {
   "cell_type": "code",
   "execution_count": 9,
   "id": "06c7ad0b",
   "metadata": {},
   "outputs": [
    {
     "name": "stdout",
     "output_type": "stream",
     "text": [
      "Hello\n"
     ]
    }
   ],
   "source": [
    "obj.msg()"
   ]
  },
  {
   "cell_type": "markdown",
   "id": "4a1d2723",
   "metadata": {},
   "source": [
    "#QUESTION 2\n",
    "\n",
    "Four Pillars of OOPS are\n",
    "1. Inheritance\n",
    "2. Encapsulation\n",
    "3. Abstraction\n",
    "4. Polymorphism"
   ]
  },
  {
   "cell_type": "code",
   "execution_count": 10,
   "id": "abd5616b",
   "metadata": {},
   "outputs": [],
   "source": [
    "#Question3\n",
    "# __init__() method is used to passed data inside a class. It is a constructor to the class\n",
    "class person:\n",
    "    \n",
    "    def __init__(self, name, number, marks ):\n",
    "        self.name = name\n",
    "        self.number = number\n",
    "        self.marks = marks\n",
    "        \n",
    "    def display(self):\n",
    "        return self.name, self.number, self.marks"
   ]
  },
  {
   "cell_type": "code",
   "execution_count": 14,
   "id": "6ffc02be",
   "metadata": {},
   "outputs": [],
   "source": [
    "o1  = person(\"shruti\", 7847289301, 98)"
   ]
  },
  {
   "cell_type": "code",
   "execution_count": 15,
   "id": "278d5c09",
   "metadata": {},
   "outputs": [
    {
     "data": {
      "text/plain": [
       "('shruti', 7847289301, 98)"
      ]
     },
     "execution_count": 15,
     "metadata": {},
     "output_type": "execute_result"
    }
   ],
   "source": [
    "o1.display()"
   ]
  },
  {
   "cell_type": "markdown",
   "id": "ebe55c5b",
   "metadata": {},
   "source": [
    "#QUESTION4\n",
    "self is the convention used to access the instance of a class. it is the paramter passed in the method of the class"
   ]
  },
  {
   "cell_type": "code",
   "execution_count": 19,
   "id": "0c7fbd48",
   "metadata": {},
   "outputs": [],
   "source": [
    "#QUESTION 5 : INHERITANCE IS THE TECHNIQUE IN WHICH CHILD CLASS CAN ACCESS THE METHOD OF PARENT CLASS\n",
    "class A:\n",
    "    \n",
    "    def msg(self):\n",
    "        print(\"MY NAME \")\n",
    "        \n",
    "class B( A):\n",
    "    \n",
    "    def msg1(self):\n",
    "        print(\"IS SHRUTI \")\n",
    "        \n",
    "class C( B):\n",
    "    \n",
    "    def msg2(self):\n",
    "        print(\"HOW ARE \")\n",
    "        \n",
    "class D:\n",
    "    \n",
    "    def msg3(self):\n",
    "        print(\"YOU. HOPE \")\n",
    "        \n",
    "class E( A, D):\n",
    "    \n",
    "    def msg4(self):\n",
    "        print(\"YOU ARE DOING GOOD\")"
   ]
  },
  {
   "cell_type": "code",
   "execution_count": 22,
   "id": "70f76256",
   "metadata": {},
   "outputs": [
    {
     "name": "stdout",
     "output_type": "stream",
     "text": [
      "MY NAME \n"
     ]
    }
   ],
   "source": [
    "a = A()\n",
    "a.msg()"
   ]
  },
  {
   "cell_type": "code",
   "execution_count": 23,
   "id": "6e6b0455",
   "metadata": {},
   "outputs": [
    {
     "name": "stdout",
     "output_type": "stream",
     "text": [
      "MY NAME \n",
      "IS SHRUTI \n"
     ]
    }
   ],
   "source": [
    "b = B()\n",
    "b.msg()\n",
    "b.msg1()"
   ]
  },
  {
   "cell_type": "code",
   "execution_count": 24,
   "id": "9127e5e1",
   "metadata": {},
   "outputs": [
    {
     "name": "stdout",
     "output_type": "stream",
     "text": [
      "MY NAME \n",
      "IS SHRUTI \n",
      "HOW ARE \n"
     ]
    }
   ],
   "source": [
    "c = C()\n",
    "c.msg()\n",
    "c.msg1()\n",
    "c.msg2()"
   ]
  },
  {
   "cell_type": "code",
   "execution_count": 25,
   "id": "f73b4c10",
   "metadata": {},
   "outputs": [
    {
     "name": "stdout",
     "output_type": "stream",
     "text": [
      "YOU. HOPE \n"
     ]
    }
   ],
   "source": [
    "d = D()\n",
    "d.msg3()"
   ]
  },
  {
   "cell_type": "code",
   "execution_count": 26,
   "id": "5eb85405",
   "metadata": {},
   "outputs": [
    {
     "name": "stdout",
     "output_type": "stream",
     "text": [
      "MY NAME \n",
      "YOU. HOPE \n",
      "YOU ARE DOING GOOD\n"
     ]
    }
   ],
   "source": [
    "e = E()\n",
    "e.msg()\n",
    "e.msg3()\n",
    "e.msg4()"
   ]
  },
  {
   "cell_type": "code",
   "execution_count": null,
   "id": "a2ce921a",
   "metadata": {},
   "outputs": [],
   "source": []
  }
 ],
 "metadata": {
  "kernelspec": {
   "display_name": "Python 3 (ipykernel)",
   "language": "python",
   "name": "python3"
  },
  "language_info": {
   "codemirror_mode": {
    "name": "ipython",
    "version": 3
   },
   "file_extension": ".py",
   "mimetype": "text/x-python",
   "name": "python",
   "nbconvert_exporter": "python",
   "pygments_lexer": "ipython3",
   "version": "3.10.4"
  }
 },
 "nbformat": 4,
 "nbformat_minor": 5
}
