{
 "cells": [
  {
   "cell_type": "code",
   "execution_count": 1,
   "id": "4a4018e5",
   "metadata": {},
   "outputs": [],
   "source": [
    "import pandas as pd"
   ]
  },
  {
   "cell_type": "code",
   "execution_count": 3,
   "id": "6cea3349",
   "metadata": {},
   "outputs": [
    {
     "name": "stdout",
     "output_type": "stream",
     "text": [
      "0     4\n",
      "1     8\n",
      "2    15\n",
      "3    16\n",
      "4    23\n",
      "5    42\n",
      "dtype: int64\n"
     ]
    }
   ],
   "source": [
    "#QUESTION 1\n",
    "data = [4,8,15,16,23,42]\n",
    "print(pd.Series(data))"
   ]
  },
  {
   "cell_type": "code",
   "execution_count": 4,
   "id": "0e2b27a3",
   "metadata": {},
   "outputs": [
    {
     "name": "stdout",
     "output_type": "stream",
     "text": [
      "0         1\n",
      "1         2\n",
      "2         3\n",
      "3         4\n",
      "4         5\n",
      "5      True\n",
      "6     False\n",
      "7    shruti\n",
      "8     anand\n",
      "9        pw\n",
      "dtype: object\n"
     ]
    }
   ],
   "source": [
    "#QUESTION 2\n",
    "list = [1,2,3,4,5, True, False, 'shruti', 'anand', 'pw']\n",
    "series = pd.Series(list)\n",
    "print(series)"
   ]
  },
  {
   "cell_type": "code",
   "execution_count": 7,
   "id": "688ddbc5",
   "metadata": {},
   "outputs": [
    {
     "name": "stdout",
     "output_type": "stream",
     "text": [
      "     Name  Age  Gender\n",
      "0   Alice   25  Female\n",
      "1     Bob   30    Male\n",
      "2  Claire   27  Female\n"
     ]
    }
   ],
   "source": [
    "#QUESTION 3\n",
    "data = {'Name' : ['Alice', 'Bob', 'Claire'],\n",
    "       'Age' : [25, 30, 27],\n",
    "       'Gender' : ['Female', 'Male', 'Female']}\n",
    "\n",
    "print(pd.DataFrame(data))"
   ]
  },
  {
   "cell_type": "code",
   "execution_count": 10,
   "id": "11010e57",
   "metadata": {},
   "outputs": [
    {
     "name": "stdout",
     "output_type": "stream",
     "text": [
      "dataframe\n",
      "     Name  Age  Gender\n",
      "0   Alice   25  Female\n",
      "1     Bob   30    Male\n",
      "2  Claire   27  Female\n",
      "series\n",
      "0     4\n",
      "1     8\n",
      "2    15\n",
      "3    16\n",
      "4    23\n",
      "5    42\n",
      "dtype: int64\n"
     ]
    }
   ],
   "source": [
    "#QUESTION 4\n",
    "#Dataframe in pandas is 2D data structure that can contain more than one data type where as \n",
    "#series in pandas is a 1D data structure which can only contain one type of data.\n",
    "\n",
    "print('dataframe')\n",
    "data = {'Name' : ['Alice', 'Bob', 'Claire'],\n",
    "       'Age' : [25, 30, 27],\n",
    "       'Gender' : ['Female', 'Male', 'Female']}\n",
    "df = pd.DataFrame(data)\n",
    "print(df)\n",
    "\n",
    "print('series')\n",
    "d = [4,8,15,16,23,42]\n",
    "print(pd.Series(d))"
   ]
  },
  {
   "cell_type": "markdown",
   "id": "2b0659bf",
   "metadata": {},
   "source": [
    "QUESTION 5\n",
    "head()\n",
    "tail()\n",
    "shape\n",
    "info()\n",
    "describe()\n",
    "sort_values()\n",
    "groupby()\n",
    "dropna()\n",
    "fillna()\n",
    "merge()"
   ]
  },
  {
   "cell_type": "code",
   "execution_count": 12,
   "id": "4fa08f77",
   "metadata": {},
   "outputs": [
    {
     "name": "stdout",
     "output_type": "stream",
     "text": [
      "             Age\n",
      "count   3.000000\n",
      "mean   27.333333\n",
      "std     2.516611\n",
      "min    25.000000\n",
      "25%    26.000000\n",
      "50%    27.000000\n",
      "75%    28.500000\n",
      "max    30.000000\n"
     ]
    }
   ],
   "source": [
    "print(df.describe())"
   ]
  },
  {
   "cell_type": "code",
   "execution_count": 13,
   "id": "5d08bdd1",
   "metadata": {},
   "outputs": [],
   "source": [
    "#QUESTION 6 \n",
    "#DATAFRAME IS MUTABLE"
   ]
  },
  {
   "cell_type": "code",
   "execution_count": 16,
   "id": "eb20ee74",
   "metadata": {},
   "outputs": [
    {
     "ename": "SyntaxError",
     "evalue": "invalid syntax (430060649.py, line 6)",
     "output_type": "error",
     "traceback": [
      "\u001b[1;36m  Cell \u001b[1;32mIn[16], line 6\u001b[1;36m\u001b[0m\n\u001b[1;33m    pic = ['Name': name, 'Age': age, 'Gender': gender]\u001b[0m\n\u001b[1;37m                 ^\u001b[0m\n\u001b[1;31mSyntaxError\u001b[0m\u001b[1;31m:\u001b[0m invalid syntax\n"
     ]
    }
   ],
   "source": [
    "#QUESTION 7\n",
    "name = pd.Series(['John', 'Alice', 'Bob'])\n",
    "age = pd.Series([25, 30, 27])\n",
    "gender = pd.Series(['Male', 'Female', 'Male'])\n",
    "\n",
    "pic = ['Name': name, 'Age': age, 'Gender': gender]\n",
    "print(pd.DataFrame(pic))"
   ]
  },
  {
   "cell_type": "code",
   "execution_count": null,
   "id": "6e74d564",
   "metadata": {},
   "outputs": [],
   "source": []
  }
 ],
 "metadata": {
  "kernelspec": {
   "display_name": "Python 3 (ipykernel)",
   "language": "python",
   "name": "python3"
  },
  "language_info": {
   "codemirror_mode": {
    "name": "ipython",
    "version": 3
   },
   "file_extension": ".py",
   "mimetype": "text/x-python",
   "name": "python",
   "nbconvert_exporter": "python",
   "pygments_lexer": "ipython3",
   "version": "3.10.4"
  }
 },
 "nbformat": 4,
 "nbformat_minor": 5
}
