{
 "cells": [
  {
   "cell_type": "markdown",
   "id": "4833dfd7",
   "metadata": {},
   "source": [
    "QUESTION 1\n",
    "Comments are the set of lines that need to be ignored while the execution of the program. These are written in order to make the programmer able to understand why the following code has been used.\n",
    "it is of two types:\n",
    "\n",
    "Single line comment: It uses # symbol to comment out a line.\n",
    "ex: # i am shruti\n",
    "the above example won't be processed.\n",
    "\n",
    "Multiline Comment: It is used to comment out multiple line of code and is achived by using (''' ''')"
   ]
  },
  {
   "cell_type": "code",
   "execution_count": 1,
   "id": "aec4681e",
   "metadata": {},
   "outputs": [
    {
     "name": "stdout",
     "output_type": "stream",
     "text": [
      "4\n"
     ]
    }
   ],
   "source": [
    "#QUESTION 2\n",
    "'''Variable are like containers that stores the value in the memory. Assigning variable is as follows'''\n",
    "a  = 4\n",
    "print(a)\n"
   ]
  },
  {
   "cell_type": "code",
   "execution_count": 3,
   "id": "9d253eda",
   "metadata": {},
   "outputs": [
    {
     "data": {
      "text/plain": [
       "4.0"
      ]
     },
     "execution_count": 3,
     "metadata": {},
     "output_type": "execute_result"
    }
   ],
   "source": [
    "#QUESTION 3\n",
    "a = 4\n",
    "b = float(a)\n",
    "b"
   ]
  },
  {
   "cell_type": "code",
   "execution_count": 5,
   "id": "a4f0e5d9",
   "metadata": {},
   "outputs": [
    {
     "data": {
      "text/plain": [
       "'1: Write the python code in any IDE and save the file with extension .py\\n2: Open the command prompt and navigate to the location of the python file by using cd \\n3: Once reached to the required directory code python alongwith the name of the python file\\n4: Press enter, the python file willl get executed.'"
      ]
     },
     "execution_count": 5,
     "metadata": {},
     "output_type": "execute_result"
    }
   ],
   "source": [
    "#QUESTION 4\n",
    "\"\"\"1: Write the python code in any IDE and save the file with extension .py\n",
    "2: Open the command prompt and navigate to the location of the python file by using cd \n",
    "3: Once reached to the required directory code python alongwith the name of the python file\n",
    "4: Press enter, the python file willl get executed.\"\"\""
   ]
  },
  {
   "cell_type": "code",
   "execution_count": 9,
   "id": "e1d8e6bd",
   "metadata": {},
   "outputs": [
    {
     "name": "stdout",
     "output_type": "stream",
     "text": [
      "[2, 3]\n"
     ]
    }
   ],
   "source": [
    "#QUESTION 5\n",
    "my_list = [1,2,3,4,5]\n",
    "sub_list = my_list[1:3]\n",
    "print(sub_list)"
   ]
  },
  {
   "cell_type": "code",
   "execution_count": 12,
   "id": "47198e68",
   "metadata": {},
   "outputs": [
    {
     "name": "stdout",
     "output_type": "stream",
     "text": [
      "(4+5j)\n",
      "<class 'complex'>\n"
     ]
    }
   ],
   "source": [
    "#QUESTION 6\n",
    "'''Complex Numbers in mathematics is termed as the number which contain both the real number and the imaginary number.\n",
    "It is represented with the help of j. ex: 4+5j.'''\n",
    "a = 4+5j\n",
    "print(a)\n",
    "print(type(a))"
   ]
  },
  {
   "cell_type": "code",
   "execution_count": 13,
   "id": "1b83b22b",
   "metadata": {},
   "outputs": [
    {
     "name": "stdout",
     "output_type": "stream",
     "text": [
      "25\n"
     ]
    }
   ],
   "source": [
    "#Question 7: Define the variable that will store the value \n",
    "a = 25\n",
    "print(a)"
   ]
  },
  {
   "cell_type": "code",
   "execution_count": 14,
   "id": "2ce68d6f",
   "metadata": {},
   "outputs": [
    {
     "name": "stdout",
     "output_type": "stream",
     "text": [
      "<class 'float'>\n"
     ]
    }
   ],
   "source": [
    "#Question 8\n",
    "a = 9.99\n",
    "print(type(a))"
   ]
  },
  {
   "cell_type": "code",
   "execution_count": 16,
   "id": "c6a3c23b",
   "metadata": {},
   "outputs": [
    {
     "name": "stdout",
     "output_type": "stream",
     "text": [
      "Shruti Anand\n"
     ]
    }
   ],
   "source": [
    "name = \"Shruti Anand\"\n",
    "print(name)"
   ]
  },
  {
   "cell_type": "code",
   "execution_count": 17,
   "id": "952cc624",
   "metadata": {},
   "outputs": [
    {
     "name": "stdout",
     "output_type": "stream",
     "text": [
      "World\n"
     ]
    }
   ],
   "source": [
    "a = \"Hello World\"\n",
    "print(a[6:])"
   ]
  },
  {
   "cell_type": "code",
   "execution_count": 18,
   "id": "d9108a8c",
   "metadata": {},
   "outputs": [
    {
     "name": "stdout",
     "output_type": "stream",
     "text": [
      "True\n"
     ]
    }
   ],
   "source": [
    "is_Student = True \n",
    "print(is_Student)"
   ]
  },
  {
   "cell_type": "code",
   "execution_count": null,
   "id": "0985c3be",
   "metadata": {},
   "outputs": [],
   "source": []
  }
 ],
 "metadata": {
  "kernelspec": {
   "display_name": "Python 3 (ipykernel)",
   "language": "python",
   "name": "python3"
  },
  "language_info": {
   "codemirror_mode": {
    "name": "ipython",
    "version": 3
   },
   "file_extension": ".py",
   "mimetype": "text/x-python",
   "name": "python",
   "nbconvert_exporter": "python",
   "pygments_lexer": "ipython3",
   "version": "3.10.4"
  }
 },
 "nbformat": 4,
 "nbformat_minor": 5
}
